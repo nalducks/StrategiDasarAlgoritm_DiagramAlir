{
  "nbformat": 4,
  "nbformat_minor": 0,
  "metadata": {
    "colab": {
      "provenance": [],
      "gpuType": "T4",
      "authorship_tag": "ABX9TyPu01z/QcHj+0NXEwaRpNpF",
      "include_colab_link": true
    },
    "kernelspec": {
      "name": "python3",
      "display_name": "Python 3"
    },
    "language_info": {
      "name": "python"
    },
    "accelerator": "GPU"
  },
  "cells": [
    {
      "cell_type": "markdown",
      "metadata": {
        "id": "view-in-github",
        "colab_type": "text"
      },
      "source": [
        "<a href=\"https://colab.research.google.com/github/nalducks/StrategiDasarAlgoritm_DiagramAlir/blob/main/Code/Prima%20or%20Not%20Testing.ipynb\" target=\"_parent\"><img src=\"https://colab.research.google.com/assets/colab-badge.svg\" alt=\"Open In Colab\"/></a>"
      ]
    },
    {
      "cell_type": "code",
      "execution_count": null,
      "metadata": {
        "colab": {
          "base_uri": "https://localhost:8080/"
        },
        "id": "ZLFyrNlcWvyc",
        "outputId": "8737c968-103e-48fb-b23d-49c9228aeac2"
      },
      "outputs": [
        {
          "output_type": "stream",
          "name": "stdout",
          "text": [
            "Masukkan bilangan: 10\n",
            "10 bukan bilangan prima\n"
          ]
        }
      ],
      "source": [
        "import math\n",
        "\n",
        "def is_prime(n):\n",
        "    # Percabangan: Cek bilangan ≤ 1\n",
        "    if n <= 1:\n",
        "        return False\n",
        "    # Percabangan: Cek bilangan 2 (prima)\n",
        "    elif n == 2:\n",
        "        return True\n",
        "    # Percabangan: Cek bilangan genap > 2\n",
        "    elif n % 2 == 0:\n",
        "        return False\n",
        "    else:\n",
        "        # Perulangan: Cek pembagi ganjil dari 3 hingga √n\n",
        "        max_divisor = math.isqrt(n)\n",
        "        for i in range(3, max_divisor + 1, 2):\n",
        "            # Percabangan: Cek apakah i membagi n\n",
        "            if n % i == 0:\n",
        "                return False\n",
        "        return True\n",
        "\n",
        "# Input dan output\n",
        "n = int(input(\"Masukkan bilangan: \"))\n",
        "if is_prime(n):\n",
        "    print(f\"{n} adalah bilangan prima\")\n",
        "else:\n",
        "    print(f\"{n} bukan bilangan prima\")\n"
      ]
    }
  ]
}